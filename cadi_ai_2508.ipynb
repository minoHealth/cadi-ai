{
 "cells": [
  {
   "cell_type": "markdown",
   "id": "0d4ce26f",
   "metadata": {},
   "source": [
    "# CADI AI Model Training Pipeline\n",
    "\n",
    "Clean modular training pipeline using external Python scripts.\n",
    "This notebook orchestrates the training process using `!python` commands to run our modular scripts.\n",
    "\n",
    "## Pipeline Overview:\n",
    "1. **Environment Setup** - Install dependencies and set paths\n",
    "2. **Dataset Preparation** - Create data.yaml and validate dataset\n",
    "3. **Model Training** - Train YOLO model with optimized settings\n",
    "4. **Evaluation** - Validate and test the trained model\n",
    "\n",
    "## Requirements:\n",
    "- Python scripts: `dataset_utils.py`, `train.py`\n",
    "- Configuration file: `config.yaml`\n",
    "- Dataset in proper YOLO format\n",
    "- GPU recommended for training"
   ]
  },
  {
   "cell_type": "code",
   "execution_count": null,
   "id": "a58c182f",
   "metadata": {},
   "outputs": [],
   "source": [
    "# Install required packages\n",
    "!pip install -U -q ultralytics roboflow opencv-python supervision PyYAML\n",
    "\n",
    "# Import basic libraries\n",
    "import os\n",
    "import sys\n",
    "import yaml\n",
    "from pathlib import Path\n",
    "\n",
    "print("✅ Dependencies installed successfully!")"
   ]
  },
  {
   "cell_type": "code",
   "execution_count": null,
   "id": "02186338",
   "metadata": {},
   "outputs": [],
   "source": [
    "# Environment Configuration\n",
    "# Adjust these paths based on your environment (Kaggle, Colab, or local)\n",
    "\n",
    "# For Kaggle:\n",
    "if '/kaggle' in os.getcwd():\n",
    "    # This is where the repository will be cloned\n",
    "    PROJECT_DIR = '/kaggle/working/cadi-ai'\n",
    "    # Assumes the dataset is in /kaggle/input\n",
    "    DATASET_PATH = '/kaggle/input/cadi-ai-retraining/combined_dataset/combined_dataset'  # Update this\n",
    "    WORKING_DIR = '/kaggle/working/cadi-training-2508'\n",
    "    ENVIRONMENT = 'kaggle'\n",
    "\n",
    "# For Google Colab:\n",
    "elif '/content' in os.getcwd():\n",
    "    PROJECT_DIR = '/content/cadi-ai'\n",
    "    DATASET_PATH = '/content/dataset'  # Update this\n",
    "    WORKING_DIR = '/content/cadi-training-2508'\n",
    "    ENVIRONMENT = 'colab'\n",
    "\n",
    "# For local development:\n",
    "else:\n",
    "    PROJECT_DIR = r'c:\Users\Mecha Mino 5 Outlook\Documents\Mino Health AI labs\cadi-ai'\n",
    "    DATASET_PATH = r'c:\Users\Mecha Mino 5 Outlook\Documents\Mino Health AI labs\cadi-ai\dataset'  # Update this\n",
    "    WORKING_DIR = r'c:\Users\Mecha Mino 5 Outlook\Documents\Mino Health AI labs\cadi-ai\training_outputs'\n",
    "    ENVIRONMENT = 'local'\n",
    "\n",
    "# Create working directory\n",
    "os.makedirs(WORKING_DIR, exist_ok=True)\n",
    "\n",
    "# In Kaggle, we need to clone the repo first\n",
    "if ENVIRONMENT == 'kaggle':\n",
    "    !git clone <YOUR_REPO_URL> {PROJECT_DIR}\n",
    "    os.chdir(PROJECT_DIR)\n",
    "else:\n",
    "    os.chdir(PROJECT_DIR)\n",
    "\n",
    "print(f"🔧 Environment: {ENVIRONMENT}")\n",
    "print(f"📁 Project directory: {os.getcwd()}")\n",
    "print(f"💾 Working directory: {WORKING_DIR}")\n"
   ]
  },
  {
   "cell_type": "code",
   "execution_count": null,
   "id": "14f2f38c",
   "metadata": {},
   "outputs": [],
   "source": [
    "# Quick Environment Diagnostic\n",
    "!python train.py --config config.yaml --validate-paths-only"
   ]
  },
  {
   "cell_type": "code",
   "execution_count": null,
   "id": "060fd9f1",
   "metadata": {},
   "outputs": [],
   "source": [
    "# Step 1: Create data.yaml and Validate Dataset\n",
    "# The dataset_utils.py script handles the creation of the data.yaml file.\n",
    "# We will call it with the appropriate arguments.\n",
    "\n",
    "!python dataset_utils.py --create-yaml {DATASET_PATH} --output-path {os.path.join(WORKING_DIR, 'data.yaml')}\n",
    "\n",
    "# Now, validate the newly created dataset\n",
    "!python dataset_utils.py --validate {os.path.join(WORKING_DIR, 'data.yaml')}"
   ]
  },
  {
   "cell_type": "code",
   "execution_count": null,
   "id": "7eea6721",
   "metadata": {},
   "outputs": [],
   "source": [
    "# Step 2: Find optimal batch size\n",
    "print("🔍 Finding optimal batch size for your hardware...")\n",
    "print("This may take a few minutes as it tests different batch sizes.\n")\n",
    "\n",
    "# We use the --find-batch argument from our updated train.py script\n",
    "!python train.py --config config.yaml --find-batch"
   ]
  },
  {
   "cell_type": "code",
   "execution_count": null,
   "id": "175f13f0",
   "metadata": {},
   "outputs": [],
   "source": [
    "# Step 3: Start training with optimal settings\n",
    "# The `train.py` script will automatically use the settings from `config.yaml`\n",
    "# including the auto-detected batch size if you set it to \"auto\" in the config.\n",
    "\n",
    "print("🚀 Starting training...")\n",
    "print("Training will save results to the output directory specified in config.yaml.")\n",
    "print("You can monitor progress in the output below.\n")\n",
    "\n",
    "!python train.py --config config.yaml"
   ]
  },
  {
   "cell_type": "code",
   "execution_count": null,
   "id": "c30d1a1b",
   "metadata": {},
   "outputs": [],
   "source": [
    "# Step 4: Evaluate the trained model\n",
    "import glob\n",
    "from ultralytics import YOLO\n",
    "\n",
    "# Find the best model weights from the runs directory specified in config.yaml\n",
    "output_dir = 'runs' # Or read from config.yaml\n",
    "with open(\"config.yaml\", 'r') as f:\n",
    "    config = yaml.safe_load(f)\n",
    "    output_dir = config.get('output_dir', 'runs')\n",
    "\n",
    "weight_files = glob.glob(os.path.join(output_dir, '**/weights/best.pt'), recursive=True)\n",
    "\n",
    "if weight_files:\n",
    "    best_weights = weight_files[0]  # Get the most recent\n",
    "    print(f"📊 Evaluating model: {best_weights}")\n",
    "    \n",
    "    # Load and validate the model\n",
    "    model = YOLO(best_weights)\n",
    "    \n",
    "    # Run validation\n",
    "    print("\n🧪 Running validation...")\n",
    "    val_results = model.val(data=os.path.join(WORKING_DIR, 'data.yaml'))\n",
    "    \n",
    "else:\n",
    "    print("❌ No trained model weights found. Please run training first.")"
   ]
  }
 ],
 "metadata": {
  "language_info": {
   "name": "python"
  }
 },
 "nbformat": 4,
 "nbformat_minor": 5
}
